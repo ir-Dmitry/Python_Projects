{
 "cells": [
  {
   "cell_type": "code",
   "execution_count": 4,
   "id": "5b77b922",
   "metadata": {},
   "outputs": [],
   "source": [
    "from handlers.registration.users import load_users\n",
    "\n",
    "data = load_users('data/users.json')"
   ]
  },
  {
   "cell_type": "code",
   "execution_count": 3,
   "id": "e7dfa7cd",
   "metadata": {},
   "outputs": [
    {
     "ename": "AttributeError",
     "evalue": "'list' object has no attribute 'append_rows'",
     "output_type": "error",
     "traceback": [
      "\u001b[1;31m---------------------------------------------------------------------------\u001b[0m",
      "\u001b[1;31mAttributeError\u001b[0m                            Traceback (most recent call last)",
      "Cell \u001b[1;32mIn[3], line 5\u001b[0m\n\u001b[0;32m      1\u001b[0m slist \u001b[38;5;241m=\u001b[39m [\u001b[38;5;241m1\u001b[39m,\u001b[38;5;241m2\u001b[39m,\u001b[38;5;241m3\u001b[39m,\u001b[38;5;241m4\u001b[39m]\n\u001b[0;32m      3\u001b[0m tlist \u001b[38;5;241m=\u001b[39m [\u001b[38;5;241m5\u001b[39m,\u001b[38;5;241m3\u001b[39m,\u001b[38;5;241m2\u001b[39m,\u001b[38;5;241m6\u001b[39m]\n\u001b[1;32m----> 5\u001b[0m \u001b[43mslist\u001b[49m\u001b[38;5;241;43m.\u001b[39;49m\u001b[43mappend_rows\u001b[49m(tlist)\n\u001b[0;32m      6\u001b[0m \u001b[38;5;28mprint\u001b[39m(slist)\n",
      "\u001b[1;31mAttributeError\u001b[0m: 'list' object has no attribute 'append_rows'"
     ]
    }
   ],
   "source": [
    "slist = [1,2,3,4]\n",
    "\n",
    "tlist = [5,3,2,6]\n",
    "\n",
    "slist.append_rows(tlist)\n",
    "print(slist)"
   ]
  },
  {
   "cell_type": "code",
   "execution_count": 1,
   "id": "59b96094",
   "metadata": {},
   "outputs": [
    {
     "name": "stdout",
     "output_type": "stream",
     "text": [
      "⏳ Задача началась. Засыпаю...\n",
      "❌ Задача была отменена во время сна\n",
      "⚠️ Задача окончательно отменена\n"
     ]
    }
   ],
   "source": [
    "import asyncio\n",
    "\n",
    "async def example_task():\n",
    "    try:\n",
    "        print(\"⏳ Задача началась. Засыпаю...\")\n",
    "        await asyncio.sleep(10)\n",
    "        print(\"✅ Проснулся и продолжаю работу\")\n",
    "    except asyncio.CancelledError:\n",
    "        print(\"❌ Задача была отменена во время сна\")\n",
    "        raise  # важно пробросить дальше, чтобы задача считалась отменённой\n",
    "\n",
    "# запускаем\n",
    "task = asyncio.create_task(example_task())\n",
    "\n",
    "# отменяем через 2 секунды\n",
    "await asyncio.sleep(2)\n",
    "task.cancel()\n",
    "try:\n",
    "    await task\n",
    "except asyncio.CancelledError:\n",
    "    print(\"⚠️ Задача окончательно отменена\")\n"
   ]
  },
  {
   "cell_type": "code",
   "execution_count": 2,
   "id": "e4ac6570",
   "metadata": {},
   "outputs": [],
   "source": [
    "import gspread\n",
    "from oauth2client.service_account import ServiceAccountCredentials"
   ]
  },
  {
   "cell_type": "code",
   "execution_count": 3,
   "id": "a826c174",
   "metadata": {},
   "outputs": [],
   "source": [
    "# Переменные\n",
    "# Путь к твоему JSON-файлу\n",
    "CREDENTIALS_FILE = \"credentials.json\"\n",
    "\n",
    "# Области доступа (не меняй)\n",
    "scope = [\n",
    "    \"https://spreadsheets.google.com/feeds\",\n",
    "    \"https://www.googleapis.com/auth/drive\",\n",
    "]\n"
   ]
  },
  {
   "cell_type": "code",
   "execution_count": 4,
   "id": "3d0417d4",
   "metadata": {},
   "outputs": [],
   "source": [
    "# Авторизация\n",
    "credentials = ServiceAccountCredentials.from_json_keyfile_name(CREDENTIALS_FILE, scope)\n",
    "client = gspread.authorize(credentials)\n",
    "\n",
    "# Открываем таблицу по названию\n",
    "spreadsheet = client.open(\"Регистрация на вебинар\")  # ← замени на реальное имя\n",
    "\n",
    "# Выбираем лист (например, \"Лист1\")\n",
    "worksheet = spreadsheet.sheet1  # или: spreadsheet.worksheet(\"Лист1\")"
   ]
  },
  {
   "cell_type": "code",
   "execution_count": 25,
   "id": "9a9ac41c",
   "metadata": {},
   "outputs": [
    {
     "name": "stdout",
     "output_type": "stream",
     "text": [
      "[1127371080, 'дщфы', 's@s.e', '2025-08-04 13:31:56']\n"
     ]
    }
   ],
   "source": [
    "pers = {\n",
    "    \"user_id\": 1127371080,\n",
    "    \"full_name\": \"дщфы\",\n",
    "    \"email\": \"s@s.e\",\n",
    "    \"registered_at\": \"2025-08-04 13:31:56\",\n",
    "}\n",
    "\n",
    "print([*pers.values()])"
   ]
  },
  {
   "cell_type": "code",
   "execution_count": null,
   "id": "86f706fb",
   "metadata": {},
   "outputs": [
    {
     "name": "stdout",
     "output_type": "stream",
     "text": [
      "[{'user_id': 1127371080, 'full_name': 'Муслимов Дмитрий Николаевич', 'email': 's@sd.w', 'registered_at': '2025-04-05 12:00:00', 'Кол-во зарегестрировавшихся:': '', '13': ''}, {'user_id': 1790562296, 'full_name': 'AbobaUltra', 'email': 'Test@gmail.com', 'registered_at': '2025-04-05 12:00:00', 'Кол-во зарегестрировавшихся:': '', '13': ''}, {'user_id': 1790562296, 'full_name': 'AbobaUltra', 'email': 'Test@gmail.com', 'registered_at': '2025-04-05 12:00:00', 'Кол-во зарегестрировавшихся:': '', '13': ''}, {'user_id': 1127371080, 'full_name': 'дщфы', 'email': 's@s.e', 'registered_at': '2025-08-04 13:31:56', 'Кол-во зарегестрировавшихся:': '', '13': ''}, {'user_id': 1790562296, 'full_name': 'AbobaUltra', 'email': 'Test@gmail.com', 'registered_at': '2025-04-05 12:00:00', 'Кол-во зарегестрировавшихся:': '', '13': ''}, {'user_id': 1127371080, 'full_name': 'sd', 'email': 's@d.d', 'registered_at': '2025-08-04 14:07:41', 'Кол-во зарегестрировавшихся:': '', '13': ''}, {'user_id': 483078495, 'full_name': 'Иванов Иван', 'email': 'zalupa@mail.ru', 'registered_at': '2025-08-04 14:13:55', 'Кол-во зарегестрировавшихся:': '', '13': ''}, {'user_id': 1127371080, 'full_name': 'Тестирование', 'email': 'test@pochta.cods', 'registered_at': '2025-08-04 14:22:12', 'Кол-во зарегестрировавшихся:': '', '13': ''}, {'user_id': 5140880350, 'full_name': 'мафиозник зубенко михаил петрович', 'email': 'mafioznik1337@mafia.ru', 'registered_at': '2025-08-04 14:23:20', 'Кол-во зарегестрировавшихся:': '', '13': ''}, {'user_id': 1127371080, 'full_name': 'Дмон', 'email': 's@s.w', 'registered_at': '2025-08-04 16:16:09', 'Кол-во зарегестрировавшихся:': '', '13': ''}, {'user_id': 1127371080, 'full_name': 'as', 'email': 's@s.s', 'registered_at': '2025-08-04 16:22:39', 'Кол-во зарегестрировавшихся:': '', '13': ''}, {'user_id': 'user_id', 'full_name': 'full_name', 'email': 'email', 'registered_at': 'registered_at', 'Кол-во зарегестрировавшихся:': 'Кол-во зарегестрировавшихся:', '13': '=СЧЁТЗ(A:A) - 1'}, {'user_id': 'user_id', 'full_name': 'full_name', 'email': 'email', 'registered_at': 'registered_at', 'Кол-во зарегестрировавшихся:': 'Кол-во зарегестрировавшихся:', '13': 13}]\n"
     ]
    },
    {
     "data": {
      "text/plain": [
       "{'spreadsheetId': '1LUaJ79IlsYt5-ec1KaLs4-6BY2mbp4Lisl4i94Uhfks',\n",
       " 'tableRange': 'Sheet1!A1:F14',\n",
       " 'updates': {'spreadsheetId': '1LUaJ79IlsYt5-ec1KaLs4-6BY2mbp4Lisl4i94Uhfks',\n",
       "  'updatedRange': 'Sheet1!A15:F15',\n",
       "  'updatedRows': 1,\n",
       "  'updatedColumns': 6,\n",
       "  'updatedCells': 6}}"
      ]
     },
     "execution_count": 8,
     "metadata": {},
     "output_type": "execute_result"
    }
   ],
   "source": [
    "# Прочитать все строки\n",
    "data = worksheet.get_all_records()\n",
    "print(data)\n",
    "\n",
    "# worksheet.append_row([\"user_id\", \"full_name\", \"email\", \"registered_at\"])\n",
    "\n",
    "pole = [\"user_id\", \"full_name\", \"email\", \"registered_at\", \"Кол-во зарегестрировавшихся:\", \"=СЧЁТЗ(A:A) - 1\"]\n",
    "\n",
    "worksheet.append_row(pole,\n",
    "    value_input_option=\"USER_ENTERED\")\n",
    "\n",
    "# worksheet.append_row(\n",
    "#     [\n",
    "#         \"1790562296\",\n",
    "#         \"AbobaUltra\",\n",
    "#         \"Test@gmail.com\",\n",
    "#         \"2025-04-05 12:00:00\",\n",
    "#     ]\n",
    "# )\n",
    "\n",
    "# worksheet.clear()\n",
    "# worksheet.update('A1', 'Новое значение')"
   ]
  },
  {
   "cell_type": "code",
   "execution_count": 29,
   "id": "92d063ad",
   "metadata": {},
   "outputs": [
    {
     "name": "stdout",
     "output_type": "stream",
     "text": [
      "2025-08-04 14:32:17.218474+03:00\n"
     ]
    }
   ],
   "source": [
    "from datetime import datetime\n",
    "from zoneinfo import ZoneInfo  # Только начиная с Python 3.9+\n",
    "\n",
    "now = datetime.now(ZoneInfo(\"Europe/Moscow\"))\n",
    "print(now)  # → 2025-08-04 14:06:00.123456+03:00\n"
   ]
  },
  {
   "cell_type": "code",
   "execution_count": 31,
   "id": "6a2c06e1",
   "metadata": {},
   "outputs": [
    {
     "name": "stdout",
     "output_type": "stream",
     "text": [
      "14:32:17.218474\n"
     ]
    }
   ],
   "source": [
    "print(now.time())"
   ]
  },
  {
   "cell_type": "code",
   "execution_count": 48,
   "id": "607667b5",
   "metadata": {},
   "outputs": [
    {
     "name": "stdout",
     "output_type": "stream",
     "text": [
      "🔔 Дата вебинара: 2025-08-04. Время: 14:32.\n",
      "Напоминание о вебинаре придет вовремя.\n"
     ]
    }
   ],
   "source": [
    "print(f\"🔔 Дата вебинара: {now.date()}. Время: {now.strftime('%H:%M')}.\\nНапоминание о вебинаре придет вовремя.\")"
   ]
  }
 ],
 "metadata": {
  "kernelspec": {
   "display_name": "venv",
   "language": "python",
   "name": "python3"
  },
  "language_info": {
   "codemirror_mode": {
    "name": "ipython",
    "version": 3
   },
   "file_extension": ".py",
   "mimetype": "text/x-python",
   "name": "python",
   "nbconvert_exporter": "python",
   "pygments_lexer": "ipython3",
   "version": "3.9.13"
  }
 },
 "nbformat": 4,
 "nbformat_minor": 5
}
