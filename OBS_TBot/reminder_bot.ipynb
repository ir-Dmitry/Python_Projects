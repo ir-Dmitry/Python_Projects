{
 "cells": [
  {
   "cell_type": "code",
   "execution_count": 2,
   "id": "5550eb62",
   "metadata": {},
   "outputs": [
    {
     "name": "stdout",
     "output_type": "stream",
     "text": [
      "Requirement already satisfied: aiogram in a:\\users\\документы\\source\\repos\\python_projects\\obs_tbot\\venv\\lib\\site-packages (2.24)\n",
      "Requirement already satisfied: aiohttp<3.9.0,>=3.8.0 in a:\\users\\документы\\source\\repos\\python_projects\\obs_tbot\\venv\\lib\\site-packages (from aiogram) (3.8.6)\n",
      "Requirement already satisfied: magic-filter>=1.0.9 in a:\\users\\документы\\source\\repos\\python_projects\\obs_tbot\\venv\\lib\\site-packages (from aiogram) (1.0.12)\n",
      "Requirement already satisfied: Babel<2.10.0,>=2.9.1 in a:\\users\\документы\\source\\repos\\python_projects\\obs_tbot\\venv\\lib\\site-packages (from aiogram) (2.9.1)\n",
      "Requirement already satisfied: certifi>=2021.10.8 in a:\\users\\документы\\source\\repos\\python_projects\\obs_tbot\\venv\\lib\\site-packages (from aiogram) (2025.7.14)\n",
      "Requirement already satisfied: yarl<2.0,>=1.0 in a:\\users\\документы\\source\\repos\\python_projects\\obs_tbot\\venv\\lib\\site-packages (from aiohttp<3.9.0,>=3.8.0->aiogram) (1.20.1)\n",
      "Requirement already satisfied: charset-normalizer<4.0,>=2.0 in a:\\users\\документы\\source\\repos\\python_projects\\obs_tbot\\venv\\lib\\site-packages (from aiohttp<3.9.0,>=3.8.0->aiogram) (3.4.2)\n",
      "Requirement already satisfied: frozenlist>=1.1.1 in a:\\users\\документы\\source\\repos\\python_projects\\obs_tbot\\venv\\lib\\site-packages (from aiohttp<3.9.0,>=3.8.0->aiogram) (1.7.0)\n",
      "Requirement already satisfied: attrs>=17.3.0 in a:\\users\\документы\\source\\repos\\python_projects\\obs_tbot\\venv\\lib\\site-packages (from aiohttp<3.9.0,>=3.8.0->aiogram) (25.3.0)\n",
      "Requirement already satisfied: aiosignal>=1.1.2 in a:\\users\\документы\\source\\repos\\python_projects\\obs_tbot\\venv\\lib\\site-packages (from aiohttp<3.9.0,>=3.8.0->aiogram) (1.4.0)\n",
      "Requirement already satisfied: async-timeout<5.0,>=4.0.0a3 in a:\\users\\документы\\source\\repos\\python_projects\\obs_tbot\\venv\\lib\\site-packages (from aiohttp<3.9.0,>=3.8.0->aiogram) (4.0.3)\n",
      "Requirement already satisfied: multidict<7.0,>=4.5 in a:\\users\\документы\\source\\repos\\python_projects\\obs_tbot\\venv\\lib\\site-packages (from aiohttp<3.9.0,>=3.8.0->aiogram) (6.6.3)\n",
      "Requirement already satisfied: pytz>=2015.7 in a:\\users\\документы\\source\\repos\\python_projects\\obs_tbot\\venv\\lib\\site-packages (from Babel<2.10.0,>=2.9.1->aiogram) (2025.2)\n",
      "Requirement already satisfied: typing-extensions>=4.2 in a:\\users\\документы\\source\\repos\\python_projects\\obs_tbot\\venv\\lib\\site-packages (from aiosignal>=1.1.2->aiohttp<3.9.0,>=3.8.0->aiogram) (4.14.1)\n",
      "Requirement already satisfied: propcache>=0.2.1 in a:\\users\\документы\\source\\repos\\python_projects\\obs_tbot\\venv\\lib\\site-packages (from yarl<2.0,>=1.0->aiohttp<3.9.0,>=3.8.0->aiogram) (0.3.2)\n",
      "Requirement already satisfied: idna>=2.0 in a:\\users\\документы\\source\\repos\\python_projects\\obs_tbot\\venv\\lib\\site-packages (from yarl<2.0,>=1.0->aiohttp<3.9.0,>=3.8.0->aiogram) (3.10)\n",
      "Note: you may need to restart the kernel to use updated packages.\n"
     ]
    },
    {
     "name": "stderr",
     "output_type": "stream",
     "text": [
      "WARNING: You are using pip version 22.0.4; however, version 25.2 is available.\n",
      "You should consider upgrading via the 'a:\\Users\\Документы\\Source\\Repos\\Python_Projects\\OBS_TBot\\venv\\Scripts\\python.exe -m pip install --upgrade pip' command.\n"
     ]
    }
   ],
   "source": [
    "%pip install aiogram\n"
   ]
  },
  {
   "cell_type": "code",
   "execution_count": null,
   "id": "a4a92e21",
   "metadata": {},
   "outputs": [],
   "source": [
    "import asyncio\n",
    "from aiogram import Bot, Dispatcher, types\n",
    "from aiogram.types import Message\n",
    "from aiogram.types import ParseMode\n",
    "from aiogram.utils import executor\n",
    "import asyncio\n",
    "from datetime import datetime\n",
    "from zoneinfo import ZoneInfo  # работает только с Python 3.9+\n",
    "import os\n",
    "from dotenv import load_dotenv\n"
   ]
  },
  {
   "cell_type": "code",
   "execution_count": null,
   "id": "35cd5bda",
   "metadata": {},
   "outputs": [
    {
     "name": "stdout",
     "output_type": "stream",
     "text": [
      "Московское время: 2025-07-31 17:55:58.326177+03:00\n"
     ]
    }
   ],
   "source": [
    "load_dotenv()\n",
    "moscow_time = datetime.now(ZoneInfo(\"Europe/Moscow\"))\n",
    "print(f\"Московское время: {moscow_time}\")\n",
    "\n",
    "TOKEN = BOT_TOKEN = os.getenv(\"BOT_TOKEN\")\n",
    "\n",
    "bot = Bot(token=TOKEN, parse_mode=ParseMode.HTML)\n",
    "dp = Dispatcher(bot)\n",
    "\n",
    "# bot = Bot(\n",
    "#     token=TOKEN,\n",
    "#     default=DefaultBotProperties(parse_mode=ParseMode.HTML)\n",
    "# )\n",
    "\n",
    "# dp = Dispatcher()"
   ]
  },
  {
   "cell_type": "code",
   "execution_count": 3,
   "id": "e8fc9f5a",
   "metadata": {},
   "outputs": [],
   "source": [
    "@dp.message_handler()\n",
    "async def reminder_handler(message: types.Message):\n",
    "    text = message.text.strip().lower()\n",
    "    print(f\"[{datetime.now()}] Получено сообщение: {text}\")\n",
    "\n",
    "    if text.startswith(\"через\"):\n",
    "        try:\n",
    "            _, minutes_str, reminder_text = text.split(\" \", 2)\n",
    "            delay = int(minutes_str)\n",
    "\n",
    "        except Exception as e:\n",
    "            print(f\"[{datetime.now()}] Ошибка при обработке 'через': {e}\")\n",
    "            await message.answer(\"⚠️ Формат: через <минуты> напомни <текст>\")\n",
    "            return\n",
    "    else:\n",
    "        try:\n",
    "            parts = text.split(\" \", 3)\n",
    "            if len(parts) < 4:\n",
    "                raise ValueError(\"Недостаточно аргументов\")\n",
    "            date_part, time_part, _, reminder_text = parts\n",
    "            reminder_dt = datetime.strptime(f\"{date_part} {time_part}\", \"%d.%m.%Y %H:%M\")\n",
    "            delay = (reminder_dt - datetime.now()).total_seconds()\n",
    "            if delay <= 0:\n",
    "                print(f\"[{datetime.now()}] Введено прошедшее время: {reminder_dt}\")\n",
    "                await message.answer(\"❗ Время уже прошло!\")\n",
    "                return\n",
    "        except Exception as e:\n",
    "            print(f\"[{datetime.now()}] Ошибка при обработке даты: {e}\")\n",
    "            await message.answer(\"⚠️ Формат: <дд.мм.гггг> <чч:мм> напомни <текст>\")\n",
    "            return\n",
    "\n",
    "    print(f\"[{datetime.now()}] Установлено напоминание через {int(delay)} секунд: {reminder_text}\")\n",
    "    await message.answer(f\"⏰ Напоминание установлено!\")\n",
    "    asyncio.create_task(set_reminder(message.chat.id, delay, reminder_text))\n",
    "\n",
    "async def set_reminder(chat_id, delay, text):\n",
    "    print(f\"[{datetime.now()}] Ждём {int(delay)} секунд для чата {chat_id} — {text}\")\n",
    "    await asyncio.sleep(delay)\n",
    "    print(f\"[{datetime.now()}] Напоминание сработало для чата {chat_id}: {text}\")\n",
    "    await bot.send_message(chat_id, f\"🔔 Напоминаю: <b>{text}</b>\")\n"
   ]
  },
  {
   "cell_type": "code",
   "execution_count": 7,
   "id": "02105024",
   "metadata": {},
   "outputs": [],
   "source": [
    "# Запускаем polling (один раз)\n",
    "polling_task = asyncio.create_task(dp.start_polling(bot))\n"
   ]
  },
  {
   "cell_type": "code",
   "execution_count": 8,
   "id": "2819bd87",
   "metadata": {},
   "outputs": [
    {
     "ename": "RuntimeError",
     "evalue": "Polling already started",
     "output_type": "error",
     "traceback": [
      "\u001b[1;31m---------------------------------------------------------------------------\u001b[0m",
      "\u001b[1;31mRuntimeError\u001b[0m                              Traceback (most recent call last)",
      "Cell \u001b[1;32mIn[8], line 4\u001b[0m\n\u001b[0;32m      1\u001b[0m polling_task\u001b[38;5;241m.\u001b[39mcancel()\n\u001b[0;32m      3\u001b[0m \u001b[38;5;28;01mtry\u001b[39;00m:\n\u001b[1;32m----> 4\u001b[0m     \u001b[38;5;28;01mawait\u001b[39;00m polling_task\n\u001b[0;32m      5\u001b[0m \u001b[38;5;28;01mexcept\u001b[39;00m asyncio\u001b[38;5;241m.\u001b[39mCancelledError:\n\u001b[0;32m      6\u001b[0m     \u001b[38;5;28mprint\u001b[39m(\u001b[38;5;124m\"\u001b[39m\u001b[38;5;124mPolling успешно остановлен\u001b[39m\u001b[38;5;124m\"\u001b[39m)\n",
      "File \u001b[1;32ma:\\Users\\Документы\\Source\\Repos\\Python_Projects\\OBS_TBot\\venv\\lib\\site-packages\\aiogram\\dispatcher\\dispatcher.py:356\u001b[0m, in \u001b[0;36mDispatcher.start_polling\u001b[1;34m(self, timeout, relax, limit, reset_webhook, fast, error_sleep, allowed_updates)\u001b[0m\n\u001b[0;32m    343\u001b[0m \u001b[38;5;250m\u001b[39m\u001b[38;5;124;03m\"\"\"\u001b[39;00m\n\u001b[0;32m    344\u001b[0m \u001b[38;5;124;03mStart long-polling\u001b[39;00m\n\u001b[0;32m    345\u001b[0m \n\u001b[1;32m   (...)\u001b[0m\n\u001b[0;32m    353\u001b[0m \u001b[38;5;124;03m:return:\u001b[39;00m\n\u001b[0;32m    354\u001b[0m \u001b[38;5;124;03m\"\"\"\u001b[39;00m\n\u001b[0;32m    355\u001b[0m \u001b[38;5;28;01mif\u001b[39;00m \u001b[38;5;28mself\u001b[39m\u001b[38;5;241m.\u001b[39m_polling:\n\u001b[1;32m--> 356\u001b[0m     \u001b[38;5;28;01mraise\u001b[39;00m \u001b[38;5;167;01mRuntimeError\u001b[39;00m(\u001b[38;5;124m'\u001b[39m\u001b[38;5;124mPolling already started\u001b[39m\u001b[38;5;124m'\u001b[39m)\n\u001b[0;32m    358\u001b[0m log\u001b[38;5;241m.\u001b[39minfo(\u001b[38;5;124m'\u001b[39m\u001b[38;5;124mStart polling.\u001b[39m\u001b[38;5;124m'\u001b[39m)\n\u001b[0;32m    360\u001b[0m \u001b[38;5;66;03m# context.set_value(MODE, LONG_POLLING)\u001b[39;00m\n",
      "\u001b[1;31mRuntimeError\u001b[0m: Polling already started"
     ]
    }
   ],
   "source": [
    "polling_task.cancel()\n",
    "\n",
    "try:\n",
    "    await polling_task\n",
    "except asyncio.CancelledError:\n",
    "    print(\"Polling успешно остановлен\")\n"
   ]
  }
 ],
 "metadata": {
  "kernelspec": {
   "display_name": "venv (3.9.13)",
   "language": "python",
   "name": "python3"
  },
  "language_info": {
   "codemirror_mode": {
    "name": "ipython",
    "version": 3
   },
   "file_extension": ".py",
   "mimetype": "text/x-python",
   "name": "python",
   "nbconvert_exporter": "python",
   "pygments_lexer": "ipython3",
   "version": "3.9.13"
  }
 },
 "nbformat": 4,
 "nbformat_minor": 5
}
